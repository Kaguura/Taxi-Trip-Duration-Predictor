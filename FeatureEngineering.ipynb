{
 "cells": [
  {
   "cell_type": "markdown",
   "metadata": {},
   "source": [
    "## Feature engineering"
   ]
  },
  {
   "cell_type": "code",
   "execution_count": 1,
   "metadata": {},
   "outputs": [],
   "source": [
    "import numpy as np\n",
    "import pandas as pd\n",
    "from sklearn.utils import shuffle\n",
    "from haversine import haversine\n",
    "from pandas.tseries.holiday import USFederalHolidayCalendar\n",
    "from datetime import datetime\n",
    "%matplotlib inline\n",
    "from matplotlib import pyplot as plt"
   ]
  },
  {
   "cell_type": "code",
   "execution_count": 2,
   "metadata": {},
   "outputs": [
    {
     "name": "stdout",
     "output_type": "stream",
     "text": [
      "(9733587, 19)\n"
     ]
    },
    {
     "data": {
      "text/html": [
       "<div>\n",
       "<style scoped>\n",
       "    .dataframe tbody tr th:only-of-type {\n",
       "        vertical-align: middle;\n",
       "    }\n",
       "\n",
       "    .dataframe tbody tr th {\n",
       "        vertical-align: top;\n",
       "    }\n",
       "\n",
       "    .dataframe thead th {\n",
       "        text-align: right;\n",
       "    }\n",
       "</style>\n",
       "<table border=\"1\" class=\"dataframe\">\n",
       "  <thead>\n",
       "    <tr style=\"text-align: right;\">\n",
       "      <th></th>\n",
       "      <th>VendorID</th>\n",
       "      <th>tpep_pickup_datetime</th>\n",
       "      <th>tpep_dropoff_datetime</th>\n",
       "      <th>passenger_count</th>\n",
       "      <th>trip_distance</th>\n",
       "      <th>pickup_longitude</th>\n",
       "      <th>pickup_latitude</th>\n",
       "      <th>RatecodeID</th>\n",
       "      <th>store_and_fwd_flag</th>\n",
       "      <th>dropoff_longitude</th>\n",
       "      <th>dropoff_latitude</th>\n",
       "      <th>payment_type</th>\n",
       "      <th>fare_amount</th>\n",
       "      <th>extra</th>\n",
       "      <th>mta_tax</th>\n",
       "      <th>tip_amount</th>\n",
       "      <th>tolls_amount</th>\n",
       "      <th>improvement_surcharge</th>\n",
       "      <th>total_amount</th>\n",
       "    </tr>\n",
       "  </thead>\n",
       "  <tbody>\n",
       "    <tr>\n",
       "      <th>0</th>\n",
       "      <td>1</td>\n",
       "      <td>2016-03-01 00:00:00</td>\n",
       "      <td>2016-03-01 00:07:55</td>\n",
       "      <td>1</td>\n",
       "      <td>2.50</td>\n",
       "      <td>-73.976746</td>\n",
       "      <td>40.765152</td>\n",
       "      <td>1</td>\n",
       "      <td>0</td>\n",
       "      <td>-74.004265</td>\n",
       "      <td>40.746128</td>\n",
       "      <td>1</td>\n",
       "      <td>9.0</td>\n",
       "      <td>0.5</td>\n",
       "      <td>0.5</td>\n",
       "      <td>2.05</td>\n",
       "      <td>0.0</td>\n",
       "      <td>0.3</td>\n",
       "      <td>12.35</td>\n",
       "    </tr>\n",
       "    <tr>\n",
       "      <th>1</th>\n",
       "      <td>1</td>\n",
       "      <td>2016-03-01 00:00:00</td>\n",
       "      <td>2016-03-01 00:11:06</td>\n",
       "      <td>1</td>\n",
       "      <td>2.90</td>\n",
       "      <td>-73.983482</td>\n",
       "      <td>40.767925</td>\n",
       "      <td>1</td>\n",
       "      <td>0</td>\n",
       "      <td>-74.005943</td>\n",
       "      <td>40.733166</td>\n",
       "      <td>1</td>\n",
       "      <td>11.0</td>\n",
       "      <td>0.5</td>\n",
       "      <td>0.5</td>\n",
       "      <td>3.05</td>\n",
       "      <td>0.0</td>\n",
       "      <td>0.3</td>\n",
       "      <td>15.35</td>\n",
       "    </tr>\n",
       "    <tr>\n",
       "      <th>2</th>\n",
       "      <td>1</td>\n",
       "      <td>2016-03-01 00:00:01</td>\n",
       "      <td>2016-03-01 00:05:00</td>\n",
       "      <td>1</td>\n",
       "      <td>0.70</td>\n",
       "      <td>-73.958221</td>\n",
       "      <td>40.764641</td>\n",
       "      <td>1</td>\n",
       "      <td>0</td>\n",
       "      <td>-73.967896</td>\n",
       "      <td>40.762901</td>\n",
       "      <td>1</td>\n",
       "      <td>5.5</td>\n",
       "      <td>0.5</td>\n",
       "      <td>0.5</td>\n",
       "      <td>2.00</td>\n",
       "      <td>0.0</td>\n",
       "      <td>0.3</td>\n",
       "      <td>8.80</td>\n",
       "    </tr>\n",
       "    <tr>\n",
       "      <th>3</th>\n",
       "      <td>0</td>\n",
       "      <td>2016-03-01 00:00:01</td>\n",
       "      <td>2016-03-01 00:24:06</td>\n",
       "      <td>3</td>\n",
       "      <td>7.18</td>\n",
       "      <td>-73.985779</td>\n",
       "      <td>40.741192</td>\n",
       "      <td>1</td>\n",
       "      <td>0</td>\n",
       "      <td>-73.946350</td>\n",
       "      <td>40.797878</td>\n",
       "      <td>1</td>\n",
       "      <td>23.5</td>\n",
       "      <td>0.5</td>\n",
       "      <td>0.5</td>\n",
       "      <td>3.20</td>\n",
       "      <td>0.0</td>\n",
       "      <td>0.3</td>\n",
       "      <td>28.00</td>\n",
       "    </tr>\n",
       "    <tr>\n",
       "      <th>4</th>\n",
       "      <td>0</td>\n",
       "      <td>2016-03-01 00:00:01</td>\n",
       "      <td>2016-03-01 00:02:03</td>\n",
       "      <td>2</td>\n",
       "      <td>0.54</td>\n",
       "      <td>-73.988426</td>\n",
       "      <td>40.764160</td>\n",
       "      <td>1</td>\n",
       "      <td>0</td>\n",
       "      <td>-73.992393</td>\n",
       "      <td>40.758224</td>\n",
       "      <td>2</td>\n",
       "      <td>4.0</td>\n",
       "      <td>0.5</td>\n",
       "      <td>0.5</td>\n",
       "      <td>0.00</td>\n",
       "      <td>0.0</td>\n",
       "      <td>0.3</td>\n",
       "      <td>5.30</td>\n",
       "    </tr>\n",
       "  </tbody>\n",
       "</table>\n",
       "</div>"
      ],
      "text/plain": [
       "   VendorID tpep_pickup_datetime tpep_dropoff_datetime  passenger_count  \\\n",
       "0         1  2016-03-01 00:00:00   2016-03-01 00:07:55                1   \n",
       "1         1  2016-03-01 00:00:00   2016-03-01 00:11:06                1   \n",
       "2         1  2016-03-01 00:00:01   2016-03-01 00:05:00                1   \n",
       "3         0  2016-03-01 00:00:01   2016-03-01 00:24:06                3   \n",
       "4         0  2016-03-01 00:00:01   2016-03-01 00:02:03                2   \n",
       "\n",
       "   trip_distance  pickup_longitude  pickup_latitude  RatecodeID  \\\n",
       "0           2.50        -73.976746        40.765152           1   \n",
       "1           2.90        -73.983482        40.767925           1   \n",
       "2           0.70        -73.958221        40.764641           1   \n",
       "3           7.18        -73.985779        40.741192           1   \n",
       "4           0.54        -73.988426        40.764160           1   \n",
       "\n",
       "   store_and_fwd_flag  dropoff_longitude  dropoff_latitude  payment_type  \\\n",
       "0                   0         -74.004265         40.746128             1   \n",
       "1                   0         -74.005943         40.733166             1   \n",
       "2                   0         -73.967896         40.762901             1   \n",
       "3                   0         -73.946350         40.797878             1   \n",
       "4                   0         -73.992393         40.758224             2   \n",
       "\n",
       "   fare_amount  extra  mta_tax  tip_amount  tolls_amount  \\\n",
       "0          9.0    0.5      0.5        2.05           0.0   \n",
       "1         11.0    0.5      0.5        3.05           0.0   \n",
       "2          5.5    0.5      0.5        2.00           0.0   \n",
       "3         23.5    0.5      0.5        3.20           0.0   \n",
       "4          4.0    0.5      0.5        0.00           0.0   \n",
       "\n",
       "   improvement_surcharge  total_amount  \n",
       "0                    0.3         12.35  \n",
       "1                    0.3         15.35  \n",
       "2                    0.3          8.80  \n",
       "3                    0.3         28.00  \n",
       "4                    0.3          5.30  "
      ]
     },
     "execution_count": 2,
     "metadata": {},
     "output_type": "execute_result"
    }
   ],
   "source": [
    "# Reading preprocessed, previously cleaned data\n",
    "data = pd.read_csv(filepath_or_buffer='preprocessed_data.csv')\n",
    "# Initial data dimensions\n",
    "print(data.shape)\n",
    "data.head()"
   ]
  },
  {
   "cell_type": "markdown",
   "metadata": {},
   "source": [
    "### Feature selection"
   ]
  },
  {
   "cell_type": "markdown",
   "metadata": {},
   "source": [
    "Due to lack of relations between trip time and charges, the most reasonable features to consider are as follows:"
   ]
  },
  {
   "cell_type": "code",
   "execution_count": 3,
   "metadata": {},
   "outputs": [
    {
     "name": "stdout",
     "output_type": "stream",
     "text": [
      "(9733587, 9)\n"
     ]
    },
    {
     "data": {
      "text/html": [
       "<div>\n",
       "<style scoped>\n",
       "    .dataframe tbody tr th:only-of-type {\n",
       "        vertical-align: middle;\n",
       "    }\n",
       "\n",
       "    .dataframe tbody tr th {\n",
       "        vertical-align: top;\n",
       "    }\n",
       "\n",
       "    .dataframe thead th {\n",
       "        text-align: right;\n",
       "    }\n",
       "</style>\n",
       "<table border=\"1\" class=\"dataframe\">\n",
       "  <thead>\n",
       "    <tr style=\"text-align: right;\">\n",
       "      <th></th>\n",
       "      <th>VendorID</th>\n",
       "      <th>tpep_pickup_datetime</th>\n",
       "      <th>tpep_dropoff_datetime</th>\n",
       "      <th>passenger_count</th>\n",
       "      <th>store_and_fwd_flag</th>\n",
       "      <th>pickup_longitude</th>\n",
       "      <th>pickup_latitude</th>\n",
       "      <th>dropoff_longitude</th>\n",
       "      <th>dropoff_latitude</th>\n",
       "    </tr>\n",
       "  </thead>\n",
       "  <tbody>\n",
       "    <tr>\n",
       "      <th>0</th>\n",
       "      <td>1</td>\n",
       "      <td>2016-03-01 00:00:00</td>\n",
       "      <td>2016-03-01 00:07:55</td>\n",
       "      <td>1</td>\n",
       "      <td>0</td>\n",
       "      <td>-73.976746</td>\n",
       "      <td>40.765152</td>\n",
       "      <td>-74.004265</td>\n",
       "      <td>40.746128</td>\n",
       "    </tr>\n",
       "    <tr>\n",
       "      <th>1</th>\n",
       "      <td>1</td>\n",
       "      <td>2016-03-01 00:00:00</td>\n",
       "      <td>2016-03-01 00:11:06</td>\n",
       "      <td>1</td>\n",
       "      <td>0</td>\n",
       "      <td>-73.983482</td>\n",
       "      <td>40.767925</td>\n",
       "      <td>-74.005943</td>\n",
       "      <td>40.733166</td>\n",
       "    </tr>\n",
       "    <tr>\n",
       "      <th>2</th>\n",
       "      <td>1</td>\n",
       "      <td>2016-03-01 00:00:01</td>\n",
       "      <td>2016-03-01 00:05:00</td>\n",
       "      <td>1</td>\n",
       "      <td>0</td>\n",
       "      <td>-73.958221</td>\n",
       "      <td>40.764641</td>\n",
       "      <td>-73.967896</td>\n",
       "      <td>40.762901</td>\n",
       "    </tr>\n",
       "    <tr>\n",
       "      <th>3</th>\n",
       "      <td>0</td>\n",
       "      <td>2016-03-01 00:00:01</td>\n",
       "      <td>2016-03-01 00:24:06</td>\n",
       "      <td>3</td>\n",
       "      <td>0</td>\n",
       "      <td>-73.985779</td>\n",
       "      <td>40.741192</td>\n",
       "      <td>-73.946350</td>\n",
       "      <td>40.797878</td>\n",
       "    </tr>\n",
       "    <tr>\n",
       "      <th>4</th>\n",
       "      <td>0</td>\n",
       "      <td>2016-03-01 00:00:01</td>\n",
       "      <td>2016-03-01 00:02:03</td>\n",
       "      <td>2</td>\n",
       "      <td>0</td>\n",
       "      <td>-73.988426</td>\n",
       "      <td>40.764160</td>\n",
       "      <td>-73.992393</td>\n",
       "      <td>40.758224</td>\n",
       "    </tr>\n",
       "  </tbody>\n",
       "</table>\n",
       "</div>"
      ],
      "text/plain": [
       "   VendorID tpep_pickup_datetime tpep_dropoff_datetime  passenger_count  \\\n",
       "0         1  2016-03-01 00:00:00   2016-03-01 00:07:55                1   \n",
       "1         1  2016-03-01 00:00:00   2016-03-01 00:11:06                1   \n",
       "2         1  2016-03-01 00:00:01   2016-03-01 00:05:00                1   \n",
       "3         0  2016-03-01 00:00:01   2016-03-01 00:24:06                3   \n",
       "4         0  2016-03-01 00:00:01   2016-03-01 00:02:03                2   \n",
       "\n",
       "   store_and_fwd_flag  pickup_longitude  pickup_latitude  dropoff_longitude  \\\n",
       "0                   0        -73.976746        40.765152         -74.004265   \n",
       "1                   0        -73.983482        40.767925         -74.005943   \n",
       "2                   0        -73.958221        40.764641         -73.967896   \n",
       "3                   0        -73.985779        40.741192         -73.946350   \n",
       "4                   0        -73.988426        40.764160         -73.992393   \n",
       "\n",
       "   dropoff_latitude  \n",
       "0         40.746128  \n",
       "1         40.733166  \n",
       "2         40.762901  \n",
       "3         40.797878  \n",
       "4         40.758224  "
      ]
     },
     "execution_count": 3,
     "metadata": {},
     "output_type": "execute_result"
    }
   ],
   "source": [
    "# Choosed features:\n",
    "data = data[['VendorID', 'tpep_pickup_datetime', 'tpep_dropoff_datetime', 'passenger_count','store_and_fwd_flag', \n",
    "             'pickup_longitude', 'pickup_latitude', 'dropoff_longitude', 'dropoff_latitude']]\n",
    "print(data.shape)\n",
    "data.head()"
   ]
  },
  {
   "cell_type": "markdown",
   "metadata": {},
   "source": [
    "### Feature extraction"
   ]
  },
  {
   "cell_type": "markdown",
   "metadata": {},
   "source": [
    "There are quite a few features we could extract from pickup datetime, since Timestamp is not convenient type to analize  or make conlusions. The traffic flow could depend on weekday, hour or even holidays. The same goes to coordinates, we could use to calculate distances using different metrics."
   ]
  },
  {
   "cell_type": "markdown",
   "metadata": {},
   "source": [
    "#### Time based information"
   ]
  },
  {
   "cell_type": "code",
   "execution_count": 4,
   "metadata": {},
   "outputs": [
    {
     "data": {
      "text/html": [
       "<div>\n",
       "<style scoped>\n",
       "    .dataframe tbody tr th:only-of-type {\n",
       "        vertical-align: middle;\n",
       "    }\n",
       "\n",
       "    .dataframe tbody tr th {\n",
       "        vertical-align: top;\n",
       "    }\n",
       "\n",
       "    .dataframe thead th {\n",
       "        text-align: right;\n",
       "    }\n",
       "</style>\n",
       "<table border=\"1\" class=\"dataframe\">\n",
       "  <thead>\n",
       "    <tr style=\"text-align: right;\">\n",
       "      <th></th>\n",
       "      <th>VendorID</th>\n",
       "      <th>tpep_pickup_datetime</th>\n",
       "      <th>passenger_count</th>\n",
       "      <th>store_and_fwd_flag</th>\n",
       "      <th>pickup_longitude</th>\n",
       "      <th>pickup_latitude</th>\n",
       "      <th>dropoff_longitude</th>\n",
       "      <th>dropoff_latitude</th>\n",
       "      <th>weekday</th>\n",
       "      <th>minute_of_the_day</th>\n",
       "      <th>trip_duration</th>\n",
       "    </tr>\n",
       "  </thead>\n",
       "  <tbody>\n",
       "    <tr>\n",
       "      <th>0</th>\n",
       "      <td>1</td>\n",
       "      <td>2016-03-01 00:00:00</td>\n",
       "      <td>1</td>\n",
       "      <td>0</td>\n",
       "      <td>-73.976746</td>\n",
       "      <td>40.765152</td>\n",
       "      <td>-74.004265</td>\n",
       "      <td>40.746128</td>\n",
       "      <td>1</td>\n",
       "      <td>0</td>\n",
       "      <td>475.0</td>\n",
       "    </tr>\n",
       "    <tr>\n",
       "      <th>1</th>\n",
       "      <td>1</td>\n",
       "      <td>2016-03-01 00:00:00</td>\n",
       "      <td>1</td>\n",
       "      <td>0</td>\n",
       "      <td>-73.983482</td>\n",
       "      <td>40.767925</td>\n",
       "      <td>-74.005943</td>\n",
       "      <td>40.733166</td>\n",
       "      <td>1</td>\n",
       "      <td>0</td>\n",
       "      <td>666.0</td>\n",
       "    </tr>\n",
       "    <tr>\n",
       "      <th>2</th>\n",
       "      <td>1</td>\n",
       "      <td>2016-03-01 00:00:01</td>\n",
       "      <td>1</td>\n",
       "      <td>0</td>\n",
       "      <td>-73.958221</td>\n",
       "      <td>40.764641</td>\n",
       "      <td>-73.967896</td>\n",
       "      <td>40.762901</td>\n",
       "      <td>1</td>\n",
       "      <td>0</td>\n",
       "      <td>299.0</td>\n",
       "    </tr>\n",
       "    <tr>\n",
       "      <th>3</th>\n",
       "      <td>0</td>\n",
       "      <td>2016-03-01 00:00:01</td>\n",
       "      <td>3</td>\n",
       "      <td>0</td>\n",
       "      <td>-73.985779</td>\n",
       "      <td>40.741192</td>\n",
       "      <td>-73.946350</td>\n",
       "      <td>40.797878</td>\n",
       "      <td>1</td>\n",
       "      <td>0</td>\n",
       "      <td>1445.0</td>\n",
       "    </tr>\n",
       "    <tr>\n",
       "      <th>4</th>\n",
       "      <td>0</td>\n",
       "      <td>2016-03-01 00:00:01</td>\n",
       "      <td>2</td>\n",
       "      <td>0</td>\n",
       "      <td>-73.988426</td>\n",
       "      <td>40.764160</td>\n",
       "      <td>-73.992393</td>\n",
       "      <td>40.758224</td>\n",
       "      <td>1</td>\n",
       "      <td>0</td>\n",
       "      <td>122.0</td>\n",
       "    </tr>\n",
       "  </tbody>\n",
       "</table>\n",
       "</div>"
      ],
      "text/plain": [
       "   VendorID tpep_pickup_datetime  passenger_count  store_and_fwd_flag  \\\n",
       "0         1  2016-03-01 00:00:00                1                   0   \n",
       "1         1  2016-03-01 00:00:00                1                   0   \n",
       "2         1  2016-03-01 00:00:01                1                   0   \n",
       "3         0  2016-03-01 00:00:01                3                   0   \n",
       "4         0  2016-03-01 00:00:01                2                   0   \n",
       "\n",
       "   pickup_longitude  pickup_latitude  dropoff_longitude  dropoff_latitude  \\\n",
       "0        -73.976746        40.765152         -74.004265         40.746128   \n",
       "1        -73.983482        40.767925         -74.005943         40.733166   \n",
       "2        -73.958221        40.764641         -73.967896         40.762901   \n",
       "3        -73.985779        40.741192         -73.946350         40.797878   \n",
       "4        -73.988426        40.764160         -73.992393         40.758224   \n",
       "\n",
       "   weekday  minute_of_the_day  trip_duration  \n",
       "0        1                  0          475.0  \n",
       "1        1                  0          666.0  \n",
       "2        1                  0          299.0  \n",
       "3        1                  0         1445.0  \n",
       "4        1                  0          122.0  "
      ]
     },
     "execution_count": 4,
     "metadata": {},
     "output_type": "execute_result"
    }
   ],
   "source": [
    "# Convert string to datetime\n",
    "data['tpep_pickup_datetime'] = pd.to_datetime(data['tpep_pickup_datetime'], format='%Y-%m-%d %H:%M:%S')\n",
    "data['tpep_dropoff_datetime'] = pd.to_datetime(data['tpep_dropoff_datetime'], format='%Y-%m-%d %H:%M:%S')\n",
    "# Disassemble pickup datetime\n",
    "data['weekday'] = data.tpep_pickup_datetime.dt.weekday\n",
    "#data.loc[data.tpep_pickup_datetime.dt.weekday < 5, 'is_weekend'] = 0\n",
    "#data.loc[data.tpep_pickup_datetime.dt.weekday >= 5, 'is_weekday'] = 0\n",
    "#data.loc[data.tpep_pickup_datetime.dt.weekday >= 5, 'is_weekend'] = 1\n",
    "data['minute_of_the_day'] = data.tpep_pickup_datetime.dt.hour * 60 + data.tpep_pickup_datetime.dt.minute\n",
    "\n",
    "# Calculate trip time\n",
    "data['trip_duration'] = (data.tpep_dropoff_datetime - data.tpep_pickup_datetime).dt.total_seconds()\n",
    "# Clear trips that take more than 24 hours (86,400s)\n",
    "data = data.loc[data.trip_duration < 86400]\n",
    "\n",
    "# Delete datetime column\n",
    "#data = data.drop('tpep_pickup_datetime', axis=1)\n",
    "data = data.drop('tpep_dropoff_datetime', axis=1)\n",
    "\n",
    "data.head()"
   ]
  },
  {
   "cell_type": "code",
   "execution_count": 5,
   "metadata": {},
   "outputs": [],
   "source": [
    "# Check if holidays\n",
    "cal = USFederalHolidayCalendar()\n",
    "holidays = cal.holidays(start=datetime(2016, 3, 1), end=datetime(2016, 4, 1))\n",
    "\n",
    "data['holiday'] = (data['tpep_pickup_datetime'].dt.date.astype('datetime64[ns]').isin(holidays)).astype(int)"
   ]
  },
  {
   "cell_type": "code",
   "execution_count": 6,
   "metadata": {},
   "outputs": [
    {
     "data": {
      "text/plain": [
       "0"
      ]
     },
     "execution_count": 6,
     "metadata": {},
     "output_type": "execute_result"
    }
   ],
   "source": [
    "np.sum(data['holiday'])"
   ]
  },
  {
   "cell_type": "markdown",
   "metadata": {},
   "source": [
    "No holidays on March!"
   ]
  },
  {
   "cell_type": "code",
   "execution_count": 7,
   "metadata": {},
   "outputs": [],
   "source": [
    "# No need for holidays column\n",
    "data = data.drop('holiday', axis=1)"
   ]
  },
  {
   "cell_type": "markdown",
   "metadata": {},
   "source": [
    "#### Getting directions and traffic information"
   ]
  },
  {
   "cell_type": "code",
   "execution_count": 8,
   "metadata": {},
   "outputs": [],
   "source": [
    "# Calculate directions\n",
    "data['lat_diff'] = data.dropoff_latitude - data.pickup_latitude\n",
    "data['lon_diff'] = data.dropoff_longitude - data.dropoff_longitude\n",
    "data['angle'] = 180 * np.arctan2(data.lat_diff, data.lon_diff) / np.pi"
   ]
  },
  {
   "cell_type": "code",
   "execution_count": 9,
   "metadata": {},
   "outputs": [],
   "source": [
    "def hav_dist(coor):\n",
    "    dist = haversine((coor[0], coor[1]), (coor[2], coor[3]))\n",
    "    return dist\n",
    "\n",
    "\n",
    "# Calculate L1, L2 and Haversine distances\n",
    "data['dist_l1'] = np.abs(data.pickup_latitude - data.dropoff_latitude) + np.abs(data.pickup_longitude - data.dropoff_longitude)\n",
    "data['dist_l2'] = np.sqrt((data.pickup_latitude - data.dropoff_latitude)**2 + (data.pickup_longitude - data.dropoff_longitude)**2)\n",
    "\n",
    "coordinates = data[['pickup_latitude', 'pickup_longitude', 'dropoff_latitude', 'dropoff_longitude']].values\n",
    "data['hav_dist'] = list(map(lambda c: hav_dist(c), coordinates))"
   ]
  },
  {
   "cell_type": "code",
   "execution_count": 10,
   "metadata": {},
   "outputs": [],
   "source": [
    "# Getting days and hours from pickup_datetime\n",
    "data['day'] = data.tpep_pickup_datetime.dt.day\n",
    "data['hour'] = data.tpep_pickup_datetime.dt.hour\n",
    "\n",
    "# Determine number of trips on each day and on each hour\n",
    "traffic =  data[['day', 'hour']]\n",
    "traffic_day = traffic.groupby('day')['day'].count()\n",
    "traffic_hour = traffic.groupby('hour')['hour'].count()"
   ]
  },
  {
   "cell_type": "code",
   "execution_count": 11,
   "metadata": {},
   "outputs": [],
   "source": [
    "# save this feature to training datasets\n",
    "data['daily_count'] = data['day'].apply(lambda day: traffic_day[day])\n",
    "data['hourly_count'] = data['hour'].apply(lambda hour: traffic_hour[hour])"
   ]
  },
  {
   "cell_type": "markdown",
   "metadata": {},
   "source": [
    "Split dataset to training and testing, since we don't know trip duration for the testing data and estimating time on haversine distance using training data"
   ]
  },
  {
   "cell_type": "code",
   "execution_count": 12,
   "metadata": {},
   "outputs": [
    {
     "data": {
      "text/plain": [
       "((8760227, 20), (8760227,), (973359, 20), (973359,))"
      ]
     },
     "execution_count": 12,
     "metadata": {},
     "output_type": "execute_result"
    }
   ],
   "source": [
    "# Getting X and y\n",
    "y = data['trip_duration']\n",
    "X = data.drop('trip_duration', axis=1)\n",
    "\n",
    "# Perform log transformation on target since it has skewed distribution\n",
    "# according to the data exploration step\n",
    "y = np.log(y+1)\n",
    "\n",
    "# Shuffle and split to training and testing sets\n",
    "X, y = shuffle(X, y, random_state=19)\n",
    "offset = int(X.shape[0] * 0.9)\n",
    "X_train, y_train = X[:offset], y[:offset]\n",
    "X_test, y_test = X[offset:], y[offset:]\n",
    "del data\n",
    "\n",
    "X_train.shape, y_train.shape, X_test.shape, y_test.shape"
   ]
  },
  {
   "cell_type": "code",
   "execution_count": 13,
   "metadata": {},
   "outputs": [
    {
     "name": "stderr",
     "output_type": "stream",
     "text": [
      "C:\\Users\\Asel\\Anaconda3\\lib\\site-packages\\ipykernel_launcher.py:1: SettingWithCopyWarning: \n",
      "A value is trying to be set on a copy of a slice from a DataFrame.\n",
      "Try using .loc[row_indexer,col_indexer] = value instead\n",
      "\n",
      "See the caveats in the documentation: http://pandas.pydata.org/pandas-docs/stable/indexing.html#indexing-view-versus-copy\n",
      "  \"\"\"Entry point for launching an IPython kernel.\n",
      "C:\\Users\\Asel\\Anaconda3\\lib\\site-packages\\ipykernel_launcher.py:8: SettingWithCopyWarning: \n",
      "A value is trying to be set on a copy of a slice from a DataFrame.\n",
      "Try using .loc[row_indexer,col_indexer] = value instead\n",
      "\n",
      "See the caveats in the documentation: http://pandas.pydata.org/pandas-docs/stable/indexing.html#indexing-view-versus-copy\n",
      "  \n",
      "C:\\Users\\Asel\\Anaconda3\\lib\\site-packages\\ipykernel_launcher.py:9: SettingWithCopyWarning: \n",
      "A value is trying to be set on a copy of a slice from a DataFrame.\n",
      "Try using .loc[row_indexer,col_indexer] = value instead\n",
      "\n",
      "See the caveats in the documentation: http://pandas.pydata.org/pandas-docs/stable/indexing.html#indexing-view-versus-copy\n",
      "  if __name__ == '__main__':\n"
     ]
    }
   ],
   "source": [
    "X_train['hav_speed'] = X_train.hav_dist / y_train\n",
    "hourly_speed = X_train.groupby('hour')['hav_speed'].mean()\n",
    "hourly_speed_mean = X_train.hav_speed.mean()\n",
    "\n",
    "X_train_speed = X_train['hour'].apply(lambda hour: hourly_speed[hour])\n",
    "X_test_speed = X_test['hour'].apply(lambda hour: hourly_speed[hour] if hour in hourly_speed else hourly_speed_mean)\n",
    "# Estimated time by Haversine distance\n",
    "X_train['hav_time'] = X_train.hav_dist / X_train_speed\n",
    "X_test['hav_time'] = X_test.hav_dist / X_test_speed"
   ]
  },
  {
   "cell_type": "code",
   "execution_count": 14,
   "metadata": {},
   "outputs": [],
   "source": [
    "# Drop unnecessary columns\n",
    "X_train = X_train.drop('hav_speed', axis=1)\n",
    "X_train = X_train.drop('day', axis=1)\n",
    "X_train = X_train.drop('hour', axis=1)\n",
    "X_test = X_test.drop('day', axis=1)\n",
    "X_test = X_test.drop('hour', axis=1)\n",
    "X_train = X_train.drop('tpep_pickup_datetime', axis=1)\n",
    "X_test = X_test.drop('tpep_pickup_datetime', axis=1)"
   ]
  },
  {
   "cell_type": "markdown",
   "metadata": {},
   "source": [
    "#### Saving data"
   ]
  },
  {
   "cell_type": "code",
   "execution_count": 15,
   "metadata": {},
   "outputs": [],
   "source": [
    "y_train = pd.DataFrame(y_train)\n",
    "y_test = pd.DataFrame(y_test)"
   ]
  },
  {
   "cell_type": "code",
   "execution_count": 16,
   "metadata": {},
   "outputs": [],
   "source": [
    "# Creating header\n",
    "columns = ['trip_duration']\n",
    "y_train = y_train[columns]\n",
    "y_test = y_test[columns]"
   ]
  },
  {
   "cell_type": "code",
   "execution_count": 17,
   "metadata": {},
   "outputs": [],
   "source": [
    "X_train.to_csv('x_train.csv', index=False)\n",
    "y_train.to_csv('y_train.csv', index=False)\n",
    "X_test.to_csv('x_test.csv', index=False)\n",
    "y_test.to_csv('y_test.csv', index=False)"
   ]
  },
  {
   "cell_type": "code",
   "execution_count": null,
   "metadata": {},
   "outputs": [],
   "source": []
  }
 ],
 "metadata": {
  "kernelspec": {
   "display_name": "Python 3",
   "language": "python",
   "name": "python3"
  },
  "language_info": {
   "codemirror_mode": {
    "name": "ipython",
    "version": 3
   },
   "file_extension": ".py",
   "mimetype": "text/x-python",
   "name": "python",
   "nbconvert_exporter": "python",
   "pygments_lexer": "ipython3",
   "version": "3.6.5"
  }
 },
 "nbformat": 4,
 "nbformat_minor": 2
}
