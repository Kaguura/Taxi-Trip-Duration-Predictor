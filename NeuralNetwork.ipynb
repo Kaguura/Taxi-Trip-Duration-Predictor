{
 "cells": [
  {
   "cell_type": "markdown",
   "metadata": {},
   "source": [
    "# Implemention of Neural Network"
   ]
  },
  {
   "cell_type": "markdown",
   "metadata": {},
   "source": [
    "# Imports"
   ]
  },
  {
   "cell_type": "code",
   "execution_count": 1,
   "metadata": {},
   "outputs": [
    {
     "name": "stderr",
     "output_type": "stream",
     "text": [
      "Using TensorFlow backend.\n"
     ]
    }
   ],
   "source": [
    "import numpy as np\n",
    "import pandas as pd\n",
    "from keras.optimizers import Adam, RMSprop\n",
    "from keras.models import Model\n",
    "from keras.layers import Dense, Activation, Dropout\n",
    "from keras.layers import Input\n",
    "from keras.layers import BatchNormalization\n",
    "from keras import backend as K\n",
    "from keras.callbacks import ModelCheckpoint\n",
    "from keras.callbacks import ReduceLROnPlateau, LearningRateScheduler\n",
    "from keras import optimizers\n",
    "import matplotlib.pyplot as plt\n",
    "from sklearn.model_selection import train_test_split\n",
    "from sklearn.metrics import mean_squared_error"
   ]
  },
  {
   "cell_type": "markdown",
   "metadata": {},
   "source": [
    "# Loading Data"
   ]
  },
  {
   "cell_type": "code",
   "execution_count": 2,
   "metadata": {},
   "outputs": [],
   "source": [
    "X_train = pd.read_csv(filepath_or_buffer='x_train_pca.csv', header=None)"
   ]
  },
  {
   "cell_type": "code",
   "execution_count": 3,
   "metadata": {},
   "outputs": [],
   "source": [
    "y_train = pd.read_csv(filepath_or_buffer='y_train.csv')"
   ]
  },
  {
   "cell_type": "code",
   "execution_count": 4,
   "metadata": {},
   "outputs": [
    {
     "data": {
      "text/plain": [
       "((8760227, 10), (8760227, 1))"
      ]
     },
     "execution_count": 4,
     "metadata": {},
     "output_type": "execute_result"
    }
   ],
   "source": [
    "X_train.shape, y_train.shape"
   ]
  },
  {
   "cell_type": "code",
   "execution_count": 5,
   "metadata": {},
   "outputs": [],
   "source": [
    "X_train = X_train.loc[:,:].values"
   ]
  },
  {
   "cell_type": "code",
   "execution_count": 6,
   "metadata": {},
   "outputs": [],
   "source": [
    "y_train = y_train.loc[:,:].values"
   ]
  },
  {
   "cell_type": "code",
   "execution_count": 7,
   "metadata": {},
   "outputs": [],
   "source": [
    "X_train, X_test, y_train, y_test = train_test_split(X_train, y_train, test_size=0.2)"
   ]
  },
  {
   "cell_type": "code",
   "execution_count": 8,
   "metadata": {},
   "outputs": [],
   "source": [
    "# Calculate Root Mean Squared Logarithmic Error\n",
    "def root_mean_squared_logarithmic_error(y_true, y_pred):\n",
    "    first_log = K.log(K.clip(y_pred, K.epsilon(), None) + 1.)\n",
    "    second_log = K.log(K.clip(y_true, K.epsilon(), None) + 1.)\n",
    "    return K.sqrt(K.mean(K.square(first_log - second_log)))\n",
    "\n",
    "rmsle = root_mean_squared_logarithmic_error\n",
    "learning_rate = 0.001"
   ]
  },
  {
   "cell_type": "markdown",
   "metadata": {},
   "source": [
    "Note:\n",
    "If both predicted and actual values are small: RMSE and RMSLE is same.\n",
    "If either predicted or the actual value is big: RMSE > RMSLE\n",
    "If both predicted and actual values are big: RMSE > RMSLE (RMSLE becomes almost negligible)"
   ]
  },
  {
   "cell_type": "markdown",
   "metadata": {},
   "source": [
    "# Model Compilation using SGD Optimizer and loss as RMSE"
   ]
  },
  {
   "cell_type": "code",
   "execution_count": 10,
   "metadata": {},
   "outputs": [],
   "source": [
    "num_features = X_train.shape[-1]\n",
    "_input = Input(shape=(num_features,))\n",
    "layer1 = Dense(150, activation='linear')(_input)\n",
    "layer1 = Dropout(0.2)(layer1)\n",
    "layer2 = Dense(20, activation='relu')(layer1)\n",
    "_output = Dense(1, activation='relu')(layer2)\n",
    "\n",
    "model = Model(inputs=[_input], outputs=[_output])\n",
    "sgd = optimizers.SGD(lr=0.01, decay=1e-6, momentum=0.9, nesterov=True)\n",
    "model.compile(optimizer=sgd, loss='mean_squared_error')"
   ]
  },
  {
   "cell_type": "markdown",
   "metadata": {},
   "source": [
    "# Building the model"
   ]
  },
  {
   "cell_type": "code",
   "execution_count": 11,
   "metadata": {},
   "outputs": [
    {
     "name": "stdout",
     "output_type": "stream",
     "text": [
      "Train on 5606544 samples, validate on 1401637 samples\n",
      "Epoch 1/50\n",
      "5606544/5606544 [==============================] - 38s 7us/step - loss: 0.2190 - val_loss: 0.2059\n",
      "Epoch 2/50\n",
      "5606544/5606544 [==============================] - 38s 7us/step - loss: 0.2074 - val_loss: 0.2058\n",
      "Epoch 3/50\n",
      "5606544/5606544 [==============================] - 36s 6us/step - loss: 0.2065 - val_loss: 0.2071\n",
      "Epoch 4/50\n",
      "5606544/5606544 [==============================] - 35s 6us/step - loss: 0.2062 - val_loss: 0.2040\n",
      "Epoch 5/50\n",
      "5606544/5606544 [==============================] - 35s 6us/step - loss: 0.2060 - val_loss: 0.2043\n",
      "Epoch 6/50\n",
      "5606544/5606544 [==============================] - 36s 6us/step - loss: 0.2059 - val_loss: 0.2040\n",
      "Epoch 7/50\n",
      "5606544/5606544 [==============================] - 35s 6us/step - loss: 0.2058 - val_loss: 0.2044\n",
      "Epoch 8/50\n",
      "5606544/5606544 [==============================] - 35s 6us/step - loss: 0.2052 - val_loss: 0.2037\n",
      "Epoch 9/50\n",
      "5606544/5606544 [==============================] - 36s 6us/step - loss: 0.2037 - val_loss: 0.2012\n",
      "Epoch 10/50\n",
      "5606544/5606544 [==============================] - 35s 6us/step - loss: 0.2013 - val_loss: 0.1979\n",
      "Epoch 11/50\n",
      "5606544/5606544 [==============================] - 36s 6us/step - loss: 0.2001 - val_loss: 0.1987\n",
      "Epoch 12/50\n",
      "5606544/5606544 [==============================] - 35s 6us/step - loss: 0.1997 - val_loss: 0.1983\n",
      "Epoch 13/50\n",
      "5606544/5606544 [==============================] - 35s 6us/step - loss: 0.1992 - val_loss: 0.1974\n",
      "Epoch 14/50\n",
      "5606544/5606544 [==============================] - 35s 6us/step - loss: 0.1991 - val_loss: 0.1991\n",
      "Epoch 15/50\n",
      "5606544/5606544 [==============================] - 35s 6us/step - loss: 0.1989 - val_loss: 0.1972\n",
      "Epoch 16/50\n",
      "5606544/5606544 [==============================] - 35s 6us/step - loss: 0.1988 - val_loss: 0.1982\n",
      "Epoch 17/50\n",
      "5606544/5606544 [==============================] - 36s 6us/step - loss: 0.1987 - val_loss: 0.1964\n",
      "Epoch 18/50\n",
      "5606544/5606544 [==============================] - 35s 6us/step - loss: 0.1986 - val_loss: 0.1968\n",
      "Epoch 19/50\n",
      "5606544/5606544 [==============================] - 36s 7us/step - loss: 0.1986 - val_loss: 0.1963\n",
      "Epoch 20/50\n",
      "5606544/5606544 [==============================] - 35s 6us/step - loss: 0.1985 - val_loss: 0.1979\n",
      "Epoch 21/50\n",
      "5606544/5606544 [==============================] - 35s 6us/step - loss: 0.1985 - val_loss: 0.1967\n",
      "Epoch 22/50\n",
      "5606544/5606544 [==============================] - 36s 6us/step - loss: 0.1984 - val_loss: 0.1971\n",
      "Epoch 23/50\n",
      "5606544/5606544 [==============================] - 35s 6us/step - loss: 0.1984 - val_loss: 0.1971\n",
      "Epoch 24/50\n",
      "5606544/5606544 [==============================] - 35s 6us/step - loss: 0.1983 - val_loss: 0.1982\n",
      "Epoch 25/50\n",
      "5606544/5606544 [==============================] - 37s 7us/step - loss: 0.1983 - val_loss: 0.1967\n",
      "Epoch 26/50\n",
      "5606544/5606544 [==============================] - 36s 6us/step - loss: 0.1983 - val_loss: 0.1961\n",
      "Epoch 27/50\n",
      "5606544/5606544 [==============================] - 35s 6us/step - loss: 0.1982 - val_loss: 0.1968\n",
      "Epoch 28/50\n",
      "5606544/5606544 [==============================] - 36s 6us/step - loss: 0.1982 - val_loss: 0.1970\n",
      "Epoch 29/50\n",
      "5606544/5606544 [==============================] - 36s 6us/step - loss: 0.1982 - val_loss: 0.1968\n",
      "Epoch 30/50\n",
      "5606544/5606544 [==============================] - 37s 7us/step - loss: 0.1981 - val_loss: 0.1982\n",
      "Epoch 31/50\n",
      "5606544/5606544 [==============================] - 38s 7us/step - loss: 0.1981 - val_loss: 0.1979\n",
      "Epoch 32/50\n",
      "5606544/5606544 [==============================] - 37s 7us/step - loss: 0.1981 - val_loss: 0.1965\n",
      "Epoch 33/50\n",
      "5606544/5606544 [==============================] - 37s 7us/step - loss: 0.1980 - val_loss: 0.1964\n",
      "Epoch 34/50\n",
      "5606544/5606544 [==============================] - 37s 7us/step - loss: 0.1980 - val_loss: 0.1983\n",
      "Epoch 35/50\n",
      "5606544/5606544 [==============================] - 37s 7us/step - loss: 0.1980 - val_loss: 0.1963\n",
      "Epoch 36/50\n",
      "5606544/5606544 [==============================] - 38s 7us/step - loss: 0.1980 - val_loss: 0.1961\n",
      "Epoch 37/50\n",
      "5606544/5606544 [==============================] - 37s 7us/step - loss: 0.1979 - val_loss: 0.1964\n",
      "Epoch 38/50\n",
      "5606544/5606544 [==============================] - 37s 7us/step - loss: 0.1979 - val_loss: 0.1961\n",
      "Epoch 39/50\n",
      "5606544/5606544 [==============================] - 37s 7us/step - loss: 0.1979 - val_loss: 0.1967\n",
      "Epoch 40/50\n",
      "5606544/5606544 [==============================] - 37s 7us/step - loss: 0.1979 - val_loss: 0.1977\n",
      "Epoch 41/50\n",
      "5606544/5606544 [==============================] - 37s 7us/step - loss: 0.1979 - val_loss: 0.1968\n",
      "Epoch 42/50\n",
      "5606544/5606544 [==============================] - 37s 7us/step - loss: 0.1979 - val_loss: 0.1971\n",
      "Epoch 43/50\n",
      "5606544/5606544 [==============================] - 37s 7us/step - loss: 0.1978 - val_loss: 0.1960\n",
      "Epoch 44/50\n",
      "5606544/5606544 [==============================] - 37s 7us/step - loss: 0.1978 - val_loss: 0.1972\n",
      "Epoch 45/50\n",
      "5606544/5606544 [==============================] - 37s 7us/step - loss: 0.1978 - val_loss: 0.1973\n",
      "Epoch 46/50\n",
      "5606544/5606544 [==============================] - 37s 7us/step - loss: 0.1978 - val_loss: 0.1964\n",
      "Epoch 47/50\n",
      "5606544/5606544 [==============================] - 37s 7us/step - loss: 0.1978 - val_loss: 0.1971\n",
      "Epoch 48/50\n",
      "5606544/5606544 [==============================] - 38s 7us/step - loss: 0.1977 - val_loss: 0.1962\n",
      "Epoch 49/50\n",
      "5606544/5606544 [==============================] - 37s 7us/step - loss: 0.1977 - val_loss: 0.1964\n",
      "Epoch 50/50\n",
      "5606544/5606544 [==============================] - 37s 7us/step - loss: 0.1977 - val_loss: 0.1960\n"
     ]
    }
   ],
   "source": [
    "checkpoint = ModelCheckpoint('weights1.h5', save_best_only=True,\n",
    "                             monitor='val_loss', verbose=0)\n",
    "reduce_lr = ReduceLROnPlateau(monitor='loss', factor=0.2,\n",
    "              patience=10, verbose=1)\n",
    "\n",
    "def scheduler(epoch):\n",
    "    if epoch < 40:\n",
    "        return learning_rate\n",
    "    if epoch > 40 and epoch < 80:\n",
    "        return learning_rate * 0.1\n",
    "    else:\n",
    "        return learning_rate * 0.05\n",
    "    \n",
    "lr_scheduler = LearningRateScheduler(scheduler)\n",
    "\n",
    "result_rmse = model.fit(X_train, y_train, batch_size=256, epochs=50, callbacks=[checkpoint],validation_split= 0.2)"
   ]
  },
  {
   "cell_type": "markdown",
   "metadata": {},
   "source": [
    "# Model Compilation using SGD Optimizer and loss as RMSLE"
   ]
  },
  {
   "cell_type": "code",
   "execution_count": 19,
   "metadata": {},
   "outputs": [],
   "source": [
    "num_features = X_train.shape[-1]\n",
    "_input = Input(shape=(num_features,))\n",
    "layer1 = Dense(150, activation='linear')(_input)\n",
    "layer1 = Dropout(0.2)(layer1)\n",
    "layer2 = Dense(20, activation='relu')(layer1)\n",
    "_output = Dense(1, activation='relu')(layer2)\n",
    "\n",
    "model = Model(inputs=[_input], outputs=[_output])\n",
    "sgd = optimizers.SGD(lr=0.01, decay=1e-6, momentum=0.9, nesterov=True)\n",
    "model.compile(optimizer=sgd, loss=rmsle)"
   ]
  },
  {
   "cell_type": "markdown",
   "metadata": {},
   "source": [
    "# Building the Model"
   ]
  },
  {
   "cell_type": "code",
   "execution_count": 20,
   "metadata": {},
   "outputs": [
    {
     "name": "stdout",
     "output_type": "stream",
     "text": [
      "Train on 5606544 samples, validate on 1401637 samples\n",
      "Epoch 1/50\n",
      "5606544/5606544 [==============================] - 37s 7us/step - loss: 0.0706 - val_loss: 0.0658\n",
      "Epoch 2/50\n",
      "5606544/5606544 [==============================] - 37s 7us/step - loss: 0.0662 - val_loss: 0.0647\n",
      "Epoch 3/50\n",
      "5606544/5606544 [==============================] - 37s 7us/step - loss: 0.0654 - val_loss: 0.0643\n",
      "Epoch 4/50\n",
      "5606544/5606544 [==============================] - 37s 7us/step - loss: 0.0651 - val_loss: 0.0641\n",
      "Epoch 5/50\n",
      "5606544/5606544 [==============================] - 38s 7us/step - loss: 0.0649 - val_loss: 0.0641\n",
      "Epoch 6/50\n",
      "5606544/5606544 [==============================] - 37s 7us/step - loss: 0.0647 - val_loss: 0.0639\n",
      "Epoch 7/50\n",
      "5606544/5606544 [==============================] - 37s 7us/step - loss: 0.0646 - val_loss: 0.0638\n",
      "Epoch 8/50\n",
      "5606544/5606544 [==============================] - 37s 7us/step - loss: 0.0644 - val_loss: 0.0639\n",
      "Epoch 9/50\n",
      "5606544/5606544 [==============================] - 37s 7us/step - loss: 0.0643 - val_loss: 0.0637\n",
      "Epoch 10/50\n",
      "5606544/5606544 [==============================] - 37s 7us/step - loss: 0.0643 - val_loss: 0.0638\n",
      "Epoch 11/50\n",
      "5606544/5606544 [==============================] - 38s 7us/step - loss: 0.0642 - val_loss: 0.0637\n",
      "Epoch 12/50\n",
      "5606544/5606544 [==============================] - 37s 7us/step - loss: 0.0642 - val_loss: 0.0637\n",
      "Epoch 13/50\n",
      "5606544/5606544 [==============================] - 36s 6us/step - loss: 0.0642 - val_loss: 0.0639\n",
      "Epoch 14/50\n",
      "5606544/5606544 [==============================] - 36s 6us/step - loss: 0.0642 - val_loss: 0.0638\n",
      "Epoch 15/50\n",
      "5606544/5606544 [==============================] - 35s 6us/step - loss: 0.0641 - val_loss: 0.0636\n",
      "Epoch 16/50\n",
      "5606544/5606544 [==============================] - 37s 7us/step - loss: 0.0641 - val_loss: 0.0638- - ETA: \n",
      "Epoch 17/50\n",
      "5606544/5606544 [==============================] - 36s 6us/step - loss: 0.0641 - val_loss: 0.0636\n",
      "Epoch 18/50\n",
      "5606544/5606544 [==============================] - 36s 6us/step - loss: 0.0641 - val_loss: 0.0636\n",
      "Epoch 19/50\n",
      "5606544/5606544 [==============================] - 37s 7us/step - loss: 0.0640 - val_loss: 0.0636\n",
      "Epoch 20/50\n",
      "5606544/5606544 [==============================] - 36s 6us/step - loss: 0.0640 - val_loss: 0.0636\n",
      "Epoch 21/50\n",
      "5606544/5606544 [==============================] - 37s 7us/step - loss: 0.0640 - val_loss: 0.0636\n",
      "Epoch 22/50\n",
      "5606544/5606544 [==============================] - 36s 6us/step - loss: 0.0640 - val_loss: 0.0636\n",
      "Epoch 23/50\n",
      "5606544/5606544 [==============================] - 37s 7us/step - loss: 0.0640 - val_loss: 0.0635\n",
      "Epoch 24/50\n",
      "5606544/5606544 [==============================] - 37s 7us/step - loss: 0.0640 - val_loss: 0.0636\n",
      "Epoch 25/50\n",
      "5606544/5606544 [==============================] - 36s 6us/step - loss: 0.0640 - val_loss: 0.0635\n",
      "Epoch 26/50\n",
      "5606544/5606544 [==============================] - 36s 6us/step - loss: 0.0640 - val_loss: 0.0636\n",
      "Epoch 27/50\n",
      "5606544/5606544 [==============================] - 36s 6us/step - loss: 0.0640 - val_loss: 0.0635\n",
      "Epoch 28/50\n",
      "5606544/5606544 [==============================] - 36s 6us/step - loss: 0.0640 - val_loss: 0.0637\n",
      "Epoch 29/50\n",
      "5606544/5606544 [==============================] - 36s 6us/step - loss: 0.0639 - val_loss: 0.0636\n",
      "Epoch 30/50\n",
      "5606544/5606544 [==============================] - 36s 6us/step - loss: 0.0640 - val_loss: 0.0635\n",
      "Epoch 31/50\n",
      "5606544/5606544 [==============================] - 38s 7us/step - loss: 0.0639 - val_loss: 0.0636 - loss: 0.06 - ETA\n",
      "Epoch 32/50\n",
      "5606544/5606544 [==============================] - 37s 7us/step - loss: 0.0639 - val_loss: 0.0636\n",
      "Epoch 33/50\n",
      "5606544/5606544 [==============================] - 36s 7us/step - loss: 0.0639 - val_loss: 0.0635\n",
      "Epoch 34/50\n",
      "5606544/5606544 [==============================] - 36s 6us/step - loss: 0.0639 - val_loss: 0.0635\n",
      "Epoch 35/50\n",
      "5606544/5606544 [==============================] - 36s 6us/step - loss: 0.0639 - val_loss: 0.0635\n",
      "Epoch 36/50\n",
      "5606544/5606544 [==============================] - 36s 6us/step - loss: 0.0639 - val_loss: 0.0635\n",
      "Epoch 37/50\n",
      "5606544/5606544 [==============================] - 35s 6us/step - loss: 0.0639 - val_loss: 0.0635\n",
      "Epoch 38/50\n",
      "5606544/5606544 [==============================] - 36s 6us/step - loss: 0.0639 - val_loss: 0.0637\n",
      "Epoch 39/50\n",
      "5606544/5606544 [==============================] - 38s 7us/step - loss: 0.0639 - val_loss: 0.0635 \n",
      "Epoch 40/50\n",
      "5606544/5606544 [==============================] - 37s 7us/step - loss: 0.0639 - val_loss: 0.0636\n",
      "Epoch 41/50\n",
      "5606544/5606544 [==============================] - 36s 6us/step - loss: 0.0639 - val_loss: 0.0636\n",
      "Epoch 42/50\n",
      "5606544/5606544 [==============================] - 37s 7us/step - loss: 0.0639 - val_loss: 0.0635\n",
      "Epoch 43/50\n",
      "5606544/5606544 [==============================] - 34s 6us/step - loss: 0.0639 - val_loss: 0.0636\n",
      "Epoch 44/50\n",
      "5606544/5606544 [==============================] - 36s 6us/step - loss: 0.0639 - val_loss: 0.0635\n",
      "Epoch 45/50\n",
      "5606544/5606544 [==============================] - 36s 6us/step - loss: 0.0639 - val_loss: 0.0635\n",
      "Epoch 46/50\n",
      "5606544/5606544 [==============================] - 37s 7us/step - loss: 0.0639 - val_loss: 0.0635\n",
      "Epoch 47/50\n",
      "5606544/5606544 [==============================] - 36s 6us/step - loss: 0.0639 - val_loss: 0.0635\n",
      "Epoch 48/50\n",
      "5606544/5606544 [==============================] - 36s 6us/step - loss: 0.0639 - val_loss: 0.0636\n",
      "Epoch 49/50\n",
      "5606544/5606544 [==============================] - 37s 7us/step - loss: 0.0638 - val_loss: 0.0636TA: 4s \n",
      "Epoch 50/50\n",
      "5606544/5606544 [==============================] - 36s 6us/step - loss: 0.0638 - val_loss: 0.0636\n"
     ]
    }
   ],
   "source": [
    "checkpoint = ModelCheckpoint('weights1.h5', save_best_only=True,\n",
    "                             monitor='val_loss', verbose=0)\n",
    "reduce_lr = ReduceLROnPlateau(monitor='loss', factor=0.2,\n",
    "              patience=10, verbose=1)\n",
    "\n",
    "def scheduler(epoch):\n",
    "    if epoch < 40:\n",
    "        return learning_rate\n",
    "    if epoch > 40 and epoch < 80:\n",
    "        return learning_rate * 0.1\n",
    "    else:\n",
    "        return learning_rate * 0.05\n",
    "    \n",
    "lr_scheduler = LearningRateScheduler(scheduler)\n",
    "\n",
    "results = model.fit(X_train, y_train, batch_size=256, epochs=50, callbacks=[checkpoint],validation_split= 0.2)"
   ]
  },
  {
   "cell_type": "markdown",
   "metadata": {},
   "source": [
    "# Result"
   ]
  },
  {
   "cell_type": "code",
   "execution_count": 21,
   "metadata": {},
   "outputs": [
    {
     "data": {
      "image/png": "[encoded data removed]",
      "text/plain": [
       "<Figure size 432x288 with 1 Axes>"
      ]
     },
     "metadata": {
      "needs_background": "light"
     },
     "output_type": "display_data"
    }
   ],
   "source": [
    "# Plot between Epoch and RMSE\n",
    "plt.plot(result_rmse.epoch, np.log(result_rmse.history['loss']), label='loss')\n",
    "plt.plot(result_rmse.epoch, np.log(result_rmse.history['val_loss']), label='val_loss')\n",
    "plt.xlabel('Epoch')\n",
    "plt.ylabel('RMSE')\n",
    "plt.legend()\n",
    "plt.savefig('epoch_rmse.png')\n",
    "plt.show()"
   ]
  },
  {
   "cell_type": "code",
   "execution_count": 22,
   "metadata": {},
   "outputs": [
    {
     "data": {
      "image/png": "[encoded data removed]",
      "text/plain": [
       "<Figure size 432x288 with 1 Axes>"
      ]
     },
     "metadata": {
      "needs_background": "light"
     },
     "output_type": "display_data"
    }
   ],
   "source": [
    "# Plot between Epoch and RMSLE\n",
    "plt.plot(results.epoch, np.log(results.history['loss']), label='loss')\n",
    "plt.plot(results.epoch, np.log(results.history['val_loss']), label='val_loss')\n",
    "plt.xlabel('Epoch')\n",
    "plt.ylabel('RMSLE')\n",
    "plt.legend()\n",
    "plt.savefig('epoch_rmsle.png')\n",
    "plt.show()"
   ]
  },
  {
   "cell_type": "code",
   "execution_count": 23,
   "metadata": {},
   "outputs": [],
   "source": [
    "y_test_post = model.predict(X_test)"
   ]
  },
  {
   "cell_type": "code",
   "execution_count": 24,
   "metadata": {},
   "outputs": [
    {
     "data": {
      "text/plain": [
       "'0.19901330094693628'"
      ]
     },
     "execution_count": 24,
     "metadata": {},
     "output_type": "execute_result"
    }
   ],
   "source": [
    "format(mean_squared_error(y_test, y_test_post))"
   ]
  },
  {
   "cell_type": "code",
   "execution_count": 50,
   "metadata": {},
   "outputs": [],
   "source": [
    "loss_test = []\n",
    "for y1, y2 in zip(y_test, y_test_post):\n",
    "    diff = np.log(y1 + 1.) - np.log(y2 + 1.)\n",
    "    loss_test.append(diff ** 2)"
   ]
  },
  {
   "cell_type": "code",
   "execution_count": 51,
   "metadata": {},
   "outputs": [
    {
     "data": {
      "text/plain": [
       "0.06317297910624926"
      ]
     },
     "execution_count": 51,
     "metadata": {},
     "output_type": "execute_result"
    }
   ],
   "source": [
    "np.sqrt(np.mean(loss_test))"
   ]
  },
  {
   "cell_type": "code",
   "execution_count": 52,
   "metadata": {},
   "outputs": [
    {
     "data": {
      "text/plain": [
       "(7008181, 1)"
      ]
     },
     "execution_count": 52,
     "metadata": {},
     "output_type": "execute_result"
    }
   ],
   "source": [
    "pred = model.predict(X_train)\n",
    "pred.shape"
   ]
  },
  {
   "cell_type": "code",
   "execution_count": 53,
   "metadata": {},
   "outputs": [
    {
     "name": "stderr",
     "output_type": "stream",
     "text": [
      "C:\\Users\\ausaf\\Anaconda3\\envs\\tf-gpu\\lib\\site-packages\\matplotlib\\axes\\_axes.py:6521: MatplotlibDeprecationWarning: \n",
      "The 'normed' kwarg was deprecated in Matplotlib 2.1 and will be removed in 3.1. Use 'density' instead.\n",
      "  alternative=\"'density'\", removal=\"3.1\")\n"
     ]
    },
    {
     "data": {
      "image/png": "[encoded data removed]",
      "text/plain": [
       "<Figure size 432x288 with 1 Axes>"
      ]
     },
     "metadata": {
      "needs_background": "light"
     },
     "output_type": "display_data"
    }
   ],
   "source": [
    "# Using log to plot distribution of training and predicted duration\n",
    "plt.hist(np.log(y_train), bins=150, alpha=0.7, label='train', normed=True)\n",
    "plt.hist(np.log(pred), bins=150, alpha=0.7, label='test pred', normed=True)\n",
    "plt.xlabel('Duration of the ride in log(duration)')\n",
    "plt.ylabel('Proportion of trips')\n",
    "plt.legend(loc='upper left')\n",
    "plt.savefig('log_train.png')\n",
    "plt.show()"
   ]
  },
  {
   "cell_type": "code",
   "execution_count": null,
   "metadata": {},
   "outputs": [],
   "source": []
  }
 ],
 "metadata": {
  "kernelspec": {
   "display_name": "TensorFlow-GPU",
   "language": "python",
   "name": "tf-gpu"
  },
  "language_info": {
   "codemirror_mode": {
    "name": "ipython",
    "version": 3
   },
   "file_extension": ".py",
   "mimetype": "text/x-python",
   "name": "python",
   "nbconvert_exporter": "python",
   "pygments_lexer": "ipython3",
   "version": "3.6.7"
  }
 },
 "nbformat": 4,
 "nbformat_minor": 2
}
