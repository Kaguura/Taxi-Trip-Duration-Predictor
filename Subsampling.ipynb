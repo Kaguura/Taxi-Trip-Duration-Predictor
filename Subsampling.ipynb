{
 "cells": [
  {
   "cell_type": "markdown",
   "metadata": {},
   "source": [
    "# Creating a Subsample"
   ]
  },
  {
   "cell_type": "code",
   "execution_count": 8,
   "metadata": {},
   "outputs": [],
   "source": [
    "import pandas as pd\n",
    "from sklearn.utils import shuffle"
   ]
  },
  {
   "cell_type": "code",
   "execution_count": 9,
   "metadata": {},
   "outputs": [],
   "source": [
    "# Reading data after dimensionality reduction with PCA\n",
    "X_train = pd.read_csv(filepath_or_buffer='x_train_pca.csv', header=None)\n",
    "y_train = pd.read_csv(filepath_or_buffer='y_train.csv')\n",
    "X_test = pd.read_csv(filepath_or_buffer='x_test_pca.csv', header=None)\n",
    "y_test = pd.read_csv(filepath_or_buffer='y_test.csv')"
   ]
  },
  {
   "cell_type": "code",
   "execution_count": 10,
   "metadata": {},
   "outputs": [],
   "source": [
    "# Shuffle data\n",
    "X_train, y_train = shuffle(X_train, y_train, random_state=19)\n",
    "X_test, y_test = shuffle(X_test, y_test, random_state=19)\n",
    "\n",
    "# Only 10% of data as subsample\n",
    "offset = int(X_train.shape[0] * 0.1)\n",
    "X_sub_train, y_sub_train = X_train[:offset], y_train[:offset]\n",
    "offset = int(X_test.shape[0] * 0.1)\n",
    "X_sub_test, y_sub_test = X_test[:offset], y_test[:offset]"
   ]
  },
  {
   "cell_type": "code",
   "execution_count": 11,
   "metadata": {},
   "outputs": [],
   "source": [
    "X_sub_train.to_csv('x_subsample_train.csv', index=False)\n",
    "y_sub_train.to_csv('y_subsample_train.csv', index=False)\n",
    "X_sub_test.to_csv('x_subsample_test.csv', index=False)\n",
    "y_sub_test.to_csv('y_subsample_test.csv', index=False)"
   ]
  },
  {
   "cell_type": "code",
   "execution_count": 12,
   "metadata": {},
   "outputs": [
    {
     "data": {
      "text/plain": [
       "((876022, 10), (876022, 1), (97335, 10), (97335, 1))"
      ]
     },
     "execution_count": 12,
     "metadata": {},
     "output_type": "execute_result"
    }
   ],
   "source": [
    "X_sub_train.shape, y_sub_train.shape, X_sub_test.shape, y_sub_test.shape"
   ]
  },
  {
   "cell_type": "code",
   "execution_count": null,
   "metadata": {},
   "outputs": [],
   "source": []
  }
 ],
 "metadata": {
  "kernelspec": {
   "display_name": "Python 3",
   "language": "python",
   "name": "python3"
  },
  "language_info": {
   "codemirror_mode": {
    "name": "ipython",
    "version": 3
   },
   "file_extension": ".py",
   "mimetype": "text/x-python",
   "name": "python",
   "nbconvert_exporter": "python",
   "pygments_lexer": "ipython3",
   "version": "3.6.5"
  }
 },
 "nbformat": 4,
 "nbformat_minor": 2
}
